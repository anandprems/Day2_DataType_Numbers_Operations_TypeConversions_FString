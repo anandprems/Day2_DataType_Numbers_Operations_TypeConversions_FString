{
 "cells": [
  {
   "cell_type": "code",
   "execution_count": 1,
   "id": "bb141a6d",
   "metadata": {},
   "outputs": [
    {
     "name": "stdout",
     "output_type": "stream",
     "text": [
      "6\n"
     ]
    }
   ],
   "source": [
    "name = print(len('Python'))\n",
    "name"
   ]
  },
  {
   "cell_type": "code",
   "execution_count": 2,
   "id": "b755c81f",
   "metadata": {},
   "outputs": [
    {
     "ename": "TypeError",
     "evalue": "object of type 'int' has no len()",
     "output_type": "error",
     "traceback": [
      "\u001b[1;31m---------------------------------------------------------------------------\u001b[0m",
      "\u001b[1;31mTypeError\u001b[0m                                 Traceback (most recent call last)",
      "Cell \u001b[1;32mIn[2], line 1\u001b[0m\n\u001b[1;32m----> 1\u001b[0m \u001b[38;5;28mprint\u001b[39m(\u001b[38;5;28mlen\u001b[39m(\u001b[38;5;241m12345\u001b[39m))\n",
      "\u001b[1;31mTypeError\u001b[0m: object of type 'int' has no len()"
     ]
    }
   ],
   "source": [
    "print(len(12345))"
   ]
  },
  {
   "cell_type": "markdown",
   "id": "0212562a",
   "metadata": {},
   "source": [
    "## Data Type"
   ]
  },
  {
   "cell_type": "markdown",
   "id": "80c27c29",
   "metadata": {},
   "source": [
    "### String"
   ]
  },
  {
   "cell_type": "code",
   "execution_count": 5,
   "id": "2e2ff11c",
   "metadata": {},
   "outputs": [
    {
     "name": "stdout",
     "output_type": "stream",
     "text": [
      "H\n"
     ]
    }
   ],
   "source": [
    "print('Hello'[0])"
   ]
  },
  {
   "cell_type": "code",
   "execution_count": 6,
   "id": "fa1d205d",
   "metadata": {},
   "outputs": [
    {
     "name": "stdout",
     "output_type": "stream",
     "text": [
      "o\n"
     ]
    }
   ],
   "source": [
    "print('Hello'[4])"
   ]
  },
  {
   "cell_type": "code",
   "execution_count": 7,
   "id": "ddf8581e",
   "metadata": {},
   "outputs": [
    {
     "name": "stdout",
     "output_type": "stream",
     "text": [
      "1\n"
     ]
    }
   ],
   "source": [
    "print('12233456'[0])"
   ]
  },
  {
   "cell_type": "code",
   "execution_count": 8,
   "id": "c9644a82",
   "metadata": {},
   "outputs": [
    {
     "data": {
      "text/plain": [
       "'123456'"
      ]
     },
     "execution_count": 8,
     "metadata": {},
     "output_type": "execute_result"
    }
   ],
   "source": [
    "'123' + '456'"
   ]
  },
  {
   "cell_type": "markdown",
   "id": "0a924b93",
   "metadata": {},
   "source": [
    "### Integers"
   ]
  },
  {
   "cell_type": "code",
   "execution_count": 10,
   "id": "e0a964cc",
   "metadata": {},
   "outputs": [
    {
     "name": "stdout",
     "output_type": "stream",
     "text": [
      "579\n"
     ]
    }
   ],
   "source": [
    "print(123 + 456)"
   ]
  },
  {
   "cell_type": "code",
   "execution_count": 11,
   "id": "3e94a7ad",
   "metadata": {},
   "outputs": [
    {
     "name": "stdout",
     "output_type": "stream",
     "text": [
      "342654896\n"
     ]
    }
   ],
   "source": [
    "print(342_654_896)"
   ]
  },
  {
   "cell_type": "markdown",
   "id": "517ea378",
   "metadata": {},
   "source": [
    "### Float"
   ]
  },
  {
   "cell_type": "code",
   "execution_count": 12,
   "id": "47948399",
   "metadata": {},
   "outputs": [
    {
     "name": "stdout",
     "output_type": "stream",
     "text": [
      "3.1459\n"
     ]
    }
   ],
   "source": [
    "print(3.1459)"
   ]
  },
  {
   "cell_type": "markdown",
   "id": "74dd9f86",
   "metadata": {},
   "source": [
    "### Boolean"
   ]
  },
  {
   "cell_type": "code",
   "execution_count": 13,
   "id": "864b0cb6",
   "metadata": {},
   "outputs": [
    {
     "data": {
      "text/plain": [
       "True"
      ]
     },
     "execution_count": 13,
     "metadata": {},
     "output_type": "execute_result"
    }
   ],
   "source": [
    "True"
   ]
  },
  {
   "cell_type": "code",
   "execution_count": 14,
   "id": "a527372d",
   "metadata": {},
   "outputs": [
    {
     "data": {
      "text/plain": [
       "False"
      ]
     },
     "execution_count": 14,
     "metadata": {},
     "output_type": "execute_result"
    }
   ],
   "source": [
    "False"
   ]
  },
  {
   "cell_type": "markdown",
   "id": "a40928b5",
   "metadata": {},
   "source": [
    "# String"
   ]
  },
  {
   "cell_type": "code",
   "execution_count": 15,
   "id": "afecccc7",
   "metadata": {},
   "outputs": [
    {
     "name": "stdout",
     "output_type": "stream",
     "text": [
      "6\n"
     ]
    }
   ],
   "source": [
    "print(len('Python'))"
   ]
  },
  {
   "cell_type": "code",
   "execution_count": 16,
   "id": "c32cd4e7",
   "metadata": {},
   "outputs": [
    {
     "ename": "TypeError",
     "evalue": "object of type 'int' has no len()",
     "output_type": "error",
     "traceback": [
      "\u001b[1;31m---------------------------------------------------------------------------\u001b[0m",
      "\u001b[1;31mTypeError\u001b[0m                                 Traceback (most recent call last)",
      "Cell \u001b[1;32mIn[16], line 1\u001b[0m\n\u001b[1;32m----> 1\u001b[0m \u001b[38;5;28mprint\u001b[39m(\u001b[38;5;28mlen\u001b[39m(\u001b[38;5;241m12345\u001b[39m))\n",
      "\u001b[1;31mTypeError\u001b[0m: object of type 'int' has no len()"
     ]
    }
   ],
   "source": [
    "print(len(12345))"
   ]
  },
  {
   "cell_type": "code",
   "execution_count": 17,
   "id": "7f193a4b",
   "metadata": {},
   "outputs": [
    {
     "name": "stdout",
     "output_type": "stream",
     "text": [
      "Whats your name?Premanand\n"
     ]
    },
    {
     "ename": "TypeError",
     "evalue": "can only concatenate str (not \"int\") to str",
     "output_type": "error",
     "traceback": [
      "\u001b[1;31m---------------------------------------------------------------------------\u001b[0m",
      "\u001b[1;31mTypeError\u001b[0m                                 Traceback (most recent call last)",
      "Cell \u001b[1;32mIn[17], line 2\u001b[0m\n\u001b[0;32m      1\u001b[0m num_char \u001b[38;5;241m=\u001b[39m \u001b[38;5;28mlen\u001b[39m(\u001b[38;5;28minput\u001b[39m(\u001b[38;5;124m'\u001b[39m\u001b[38;5;124mWhats your name?\u001b[39m\u001b[38;5;124m'\u001b[39m))\n\u001b[1;32m----> 2\u001b[0m \u001b[38;5;28mprint\u001b[39m(\u001b[38;5;124m'\u001b[39m\u001b[38;5;124mYour name has\u001b[39m\u001b[38;5;124m'\u001b[39m \u001b[38;5;241m+\u001b[39m num_char \u001b[38;5;241m+\u001b[39m \u001b[38;5;124m'\u001b[39m\u001b[38;5;124mcharacters.\u001b[39m\u001b[38;5;124m'\u001b[39m)\n",
      "\u001b[1;31mTypeError\u001b[0m: can only concatenate str (not \"int\") to str"
     ]
    }
   ],
   "source": [
    "num_char = len(input('Whats your name?'))\n",
    "print('Your name has' + num_char + 'characters.')"
   ]
  },
  {
   "cell_type": "markdown",
   "id": "bbaaf0ca",
   "metadata": {},
   "source": [
    "## Type conversion"
   ]
  },
  {
   "cell_type": "code",
   "execution_count": 22,
   "id": "4d1babdd",
   "metadata": {},
   "outputs": [
    {
     "name": "stdout",
     "output_type": "stream",
     "text": [
      "Whats your name?Premanand\n",
      "Your name has 9 characters.\n"
     ]
    }
   ],
   "source": [
    "num_char = len(input('Whats your name?'))\n",
    "new_num_char = str(num_char)\n",
    "print('Your name has ' + new_num_char + ' characters.')"
   ]
  },
  {
   "cell_type": "code",
   "execution_count": 23,
   "id": "db32d1ed",
   "metadata": {},
   "outputs": [
    {
     "data": {
      "text/plain": [
       "int"
      ]
     },
     "execution_count": 23,
     "metadata": {},
     "output_type": "execute_result"
    }
   ],
   "source": [
    "a = 123\n",
    "type(a)"
   ]
  },
  {
   "cell_type": "code",
   "execution_count": 24,
   "id": "bc75be06",
   "metadata": {},
   "outputs": [
    {
     "data": {
      "text/plain": [
       "str"
      ]
     },
     "execution_count": 24,
     "metadata": {},
     "output_type": "execute_result"
    }
   ],
   "source": [
    "a = str(123)\n",
    "type(a)"
   ]
  },
  {
   "cell_type": "code",
   "execution_count": 25,
   "id": "b534ee5b",
   "metadata": {},
   "outputs": [
    {
     "data": {
      "text/plain": [
       "float"
      ]
     },
     "execution_count": 25,
     "metadata": {},
     "output_type": "execute_result"
    }
   ],
   "source": [
    "a = float(123)\n",
    "type(a)"
   ]
  },
  {
   "cell_type": "code",
   "execution_count": 26,
   "id": "6d007463",
   "metadata": {},
   "outputs": [
    {
     "name": "stdout",
     "output_type": "stream",
     "text": [
      "170.3\n"
     ]
    }
   ],
   "source": [
    "print(70 + float('100.3'))"
   ]
  },
  {
   "cell_type": "code",
   "execution_count": 27,
   "id": "14f44338",
   "metadata": {},
   "outputs": [
    {
     "name": "stdout",
     "output_type": "stream",
     "text": [
      "70100\n"
     ]
    }
   ],
   "source": [
    "print(str(70) + str(100))"
   ]
  },
  {
   "cell_type": "code",
   "execution_count": 3,
   "id": "38fdae41",
   "metadata": {},
   "outputs": [
    {
     "name": "stdout",
     "output_type": "stream",
     "text": [
      "42\n",
      "6\n"
     ]
    }
   ],
   "source": [
    "#Write a program that adds the digits in a 2 digit number. e.g. if the input was 35, then the output should be 3 + 5 = 8\n",
    "\n",
    "two_digit_number = input()\n",
    "\n",
    "print(int(two_digit_number[0]) + int(two_digit_number[1]))"
   ]
  },
  {
   "cell_type": "markdown",
   "id": "adc0c352",
   "metadata": {},
   "source": [
    "### Mathematical operations"
   ]
  },
  {
   "cell_type": "code",
   "execution_count": 4,
   "id": "d8516822",
   "metadata": {},
   "outputs": [
    {
     "name": "stdout",
     "output_type": "stream",
     "text": [
      "7.0\n"
     ]
    }
   ],
   "source": [
    "print(3 * 3 + 3 / 3 - 3)"
   ]
  },
  {
   "cell_type": "code",
   "execution_count": 9,
   "id": "514954a4",
   "metadata": {},
   "outputs": [
    {
     "name": "stdout",
     "output_type": "stream",
     "text": [
      "3.0\n"
     ]
    }
   ],
   "source": [
    "print(3 * (3 + 3) / 3 - 3)"
   ]
  },
  {
   "cell_type": "code",
   "execution_count": 10,
   "id": "e998fc2c",
   "metadata": {},
   "outputs": [
    {
     "name": "stdout",
     "output_type": "stream",
     "text": [
      "1.75\n",
      "80\n",
      "26\n"
     ]
    }
   ],
   "source": [
    "# 1st input: enter height in meters e.g: 1.65\n",
    "height = input()\n",
    "# 2nd input: enter weight in kilograms e.g: 72\n",
    "weight = input()\n",
    "# 🚨 Don't change the code above 👆\n",
    "\n",
    "# Write your code below this line 👇\n",
    "height = float(height)\n",
    "weight = float(weight)\n",
    "\n",
    "BMI = weight / (height ** 2)\n",
    "print(int(BMI))"
   ]
  },
  {
   "cell_type": "markdown",
   "id": "342aac87",
   "metadata": {},
   "source": [
    "### Data manipulation"
   ]
  },
  {
   "cell_type": "code",
   "execution_count": 11,
   "id": "1c091370",
   "metadata": {},
   "outputs": [
    {
     "ename": "TypeError",
     "evalue": "can only concatenate str (not \"int\") to str",
     "output_type": "error",
     "traceback": [
      "\u001b[1;31m---------------------------------------------------------------------------\u001b[0m",
      "\u001b[1;31mTypeError\u001b[0m                                 Traceback (most recent call last)",
      "Cell \u001b[1;32mIn[11], line 2\u001b[0m\n\u001b[0;32m      1\u001b[0m score \u001b[38;5;241m=\u001b[39m \u001b[38;5;241m0\u001b[39m\n\u001b[1;32m----> 2\u001b[0m \u001b[38;5;28mprint\u001b[39m(\u001b[38;5;124m'\u001b[39m\u001b[38;5;124mYour score is\u001b[39m\u001b[38;5;124m'\u001b[39m \u001b[38;5;241m+\u001b[39m score)\n",
      "\u001b[1;31mTypeError\u001b[0m: can only concatenate str (not \"int\") to str"
     ]
    }
   ],
   "source": [
    "score = 0\n",
    "print('Your score is' + score)"
   ]
  },
  {
   "cell_type": "code",
   "execution_count": 13,
   "id": "78067624",
   "metadata": {},
   "outputs": [
    {
     "name": "stdout",
     "output_type": "stream",
     "text": [
      "Your score is 0\n"
     ]
    }
   ],
   "source": [
    "score = 0\n",
    "print('Your score is ' + str(score))"
   ]
  },
  {
   "cell_type": "markdown",
   "id": "741d30a5",
   "metadata": {},
   "source": [
    "### F String"
   ]
  },
  {
   "cell_type": "code",
   "execution_count": 15,
   "id": "e31044a1",
   "metadata": {},
   "outputs": [
    {
     "name": "stdout",
     "output_type": "stream",
     "text": [
      "Your score is 0\n"
     ]
    }
   ],
   "source": [
    "score = 0\n",
    "height = 1.79\n",
    "isWinning = True\n",
    "\n",
    "print(f'Your score is {score}')"
   ]
  },
  {
   "cell_type": "code",
   "execution_count": 16,
   "id": "ce9fc2f6",
   "metadata": {},
   "outputs": [
    {
     "name": "stdout",
     "output_type": "stream",
     "text": [
      "Your score is 0 and height is 1.79\n"
     ]
    }
   ],
   "source": [
    "score = 0\n",
    "height = 1.79\n",
    "isWinning = True\n",
    "\n",
    "print(f'Your score is {score} and height is {height}')"
   ]
  },
  {
   "cell_type": "code",
   "execution_count": 17,
   "id": "78390531",
   "metadata": {},
   "outputs": [
    {
     "name": "stdout",
     "output_type": "stream",
     "text": [
      "Your score is 0 and height is 1.79 and winning is always True\n"
     ]
    }
   ],
   "source": [
    "score = 0\n",
    "height = 1.79\n",
    "isWinning = True\n",
    "\n",
    "print(f'Your score is {score} and height is {height} and winning is always {isWinning}')"
   ]
  },
  {
   "cell_type": "code",
   "execution_count": 2,
   "id": "c32760db",
   "metadata": {},
   "outputs": [
    {
     "name": "stdout",
     "output_type": "stream",
     "text": [
      "37\n",
      "You have 2756 weeks left.\n"
     ]
    }
   ],
   "source": [
    "# Create a program using maths and f-Strings that tells us how many weeks we have left, if we live until 90 years old.\n",
    "\n",
    "#It will take your current age as the input and output a message with our time left in this format:\n",
    "\n",
    "#You have x weeks left.\n",
    "#Where x is replaced with the actual calculated number of weeks the input age has left until age 90.\n",
    "\n",
    "age = input()\n",
    "# 🚨 Don't change the code above 👆\n",
    "# Write your code below this line 👇\n",
    "\n",
    "age = int(age)\n",
    "\n",
    "no_of_weeks_per_year = 52\n",
    "\n",
    "no_of_years_from_90 = 90 - age\n",
    "\n",
    "no_weeks_we_live = no_of_years_from_90 * no_of_weeks_per_year\n",
    "\n",
    "print(f'You have {no_weeks_we_live} weeks left.')"
   ]
  },
  {
   "cell_type": "markdown",
   "id": "e70156f6",
   "metadata": {},
   "source": [
    "## Tip Calculator"
   ]
  },
  {
   "cell_type": "code",
   "execution_count": 3,
   "id": "a02e9e84",
   "metadata": {},
   "outputs": [
    {
     "name": "stdout",
     "output_type": "stream",
     "text": [
      "Welcome to the TIP calculator\n",
      "What was the total bill?2450\n",
      "How much tip would you like to give? 10, 20, 30, 50?30\n",
      "How many people to split the bill?5\n",
      "Each person should pay: 496.0\n"
     ]
    }
   ],
   "source": [
    "print('Welcome to the TIP calculator')\n",
    "\n",
    "bill = float(input('What was the total bill?'))\n",
    "\n",
    "tip = int(input('How much tip would you like to give? 10, 20, 30, 50?'))\n",
    "\n",
    "friends = int(input('How many people to split the bill?'))\n",
    "\n",
    "total_bill = (bill + tip) / friends\n",
    "\n",
    "print(f'Each person should pay: {total_bill}')"
   ]
  },
  {
   "cell_type": "code",
   "execution_count": 4,
   "id": "e55a1c92",
   "metadata": {},
   "outputs": [
    {
     "name": "stdout",
     "output_type": "stream",
     "text": [
      "Welcome to the TIP calculator\n",
      "What was the total bill?2450\n",
      "How much tip would you like to give? 5, 10, 12, 15?10\n",
      "How many people to split the bill?4\n",
      "Each person should pay: 673.75\n"
     ]
    }
   ],
   "source": [
    "print('Welcome to the TIP calculator')\n",
    "\n",
    "bill = float(input('What was the total bill?'))\n",
    "\n",
    "tip = int(input('How much tip would you like to give? 5, 10, 12, 15?'))\n",
    "\n",
    "friends = int(input('How many people to split the bill?'))\n",
    "\n",
    "total_bill = tip/100 * bill + bill\n",
    "\n",
    "bill_per_person = total_bill / friends\n",
    "\n",
    "final = round(bill_per_person, 2)\n",
    "\n",
    "final = '{:.2f}'.format(bill_per_person)\n",
    "\n",
    "print(f'Each person should pay: {final}')"
   ]
  },
  {
   "cell_type": "code",
   "execution_count": null,
   "id": "760d0d47",
   "metadata": {},
   "outputs": [],
   "source": []
  }
 ],
 "metadata": {
  "kernelspec": {
   "display_name": "Python 3 (ipykernel)",
   "language": "python",
   "name": "python3"
  },
  "language_info": {
   "codemirror_mode": {
    "name": "ipython",
    "version": 3
   },
   "file_extension": ".py",
   "mimetype": "text/x-python",
   "name": "python",
   "nbconvert_exporter": "python",
   "pygments_lexer": "ipython3",
   "version": "3.11.5"
  }
 },
 "nbformat": 4,
 "nbformat_minor": 5
}
